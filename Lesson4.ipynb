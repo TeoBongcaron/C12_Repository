{
  "nbformat": 4,
  "nbformat_minor": 0,
  "metadata": {
    "colab": {
      "provenance": [],
      "authorship_tag": "ABX9TyNg/P4AtNOOupLxrWJr3yu6",
      "include_colab_link": true
    },
    "kernelspec": {
      "name": "python3",
      "display_name": "Python 3"
    },
    "language_info": {
      "name": "python"
    }
  },
  "cells": [
    {
      "cell_type": "markdown",
      "metadata": {
        "id": "view-in-github",
        "colab_type": "text"
      },
      "source": [
        "<a href=\"https://colab.research.google.com/github/TeoBongcaron/C12_Repository/blob/main/Lesson4.ipynb\" target=\"_parent\"><img src=\"https://colab.research.google.com/assets/colab-badge.svg\" alt=\"Open In Colab\"/></a>"
      ]
    },
    {
      "cell_type": "markdown",
      "source": [
        "1. Data manipulation and processing"
      ],
      "metadata": {
        "id": "z3vQkpH2tw0w"
      }
    },
    {
      "cell_type": "code",
      "source": [
        "# Create dataframe using Pandas\n",
        "\n",
        "import pandas as pd\n",
        "import numpy as np\n",
        "\n",
        "# Create dataframe\n",
        "df = pd.DataFrame({\n",
        "    'Company': ['FB', 'FB', 'GOOG', 'GOOG', 'MSFT', 'MSFT', 'AAPL', 'AAPL'],\n",
        "    'Person': ['Sam', 'Charlie', 'Amy', 'Vanessa', 'Carl', 'Sarah', 'Tony', 'Jake'],\n",
        "    'Sales': [200, 120, 340, 124, 243, 350, np.nan, 400]\n",
        "})\n",
        "df\n"
      ],
      "metadata": {
        "colab": {
          "base_uri": "https://localhost:8080/",
          "height": 300
        },
        "id": "aov9YA7yt2sO",
        "outputId": "7a20c0fc-efab-490f-99fe-4b561adecc95"
      },
      "execution_count": 1,
      "outputs": [
        {
          "output_type": "execute_result",
          "data": {
            "text/plain": [
              "  Company   Person  Sales\n",
              "0      FB      Sam  200.0\n",
              "1      FB  Charlie  120.0\n",
              "2    GOOG      Amy  340.0\n",
              "3    GOOG  Vanessa  124.0\n",
              "4    MSFT     Carl  243.0\n",
              "5    MSFT    Sarah  350.0\n",
              "6    AAPL     Tony    NaN\n",
              "7    AAPL     Jake  400.0"
            ],
            "text/html": [
              "\n",
              "  <div id=\"df-2096325f-f6dd-4569-ad47-bf6a34fbc59e\" class=\"colab-df-container\">\n",
              "    <div>\n",
              "<style scoped>\n",
              "    .dataframe tbody tr th:only-of-type {\n",
              "        vertical-align: middle;\n",
              "    }\n",
              "\n",
              "    .dataframe tbody tr th {\n",
              "        vertical-align: top;\n",
              "    }\n",
              "\n",
              "    .dataframe thead th {\n",
              "        text-align: right;\n",
              "    }\n",
              "</style>\n",
              "<table border=\"1\" class=\"dataframe\">\n",
              "  <thead>\n",
              "    <tr style=\"text-align: right;\">\n",
              "      <th></th>\n",
              "      <th>Company</th>\n",
              "      <th>Person</th>\n",
              "      <th>Sales</th>\n",
              "    </tr>\n",
              "  </thead>\n",
              "  <tbody>\n",
              "    <tr>\n",
              "      <th>0</th>\n",
              "      <td>FB</td>\n",
              "      <td>Sam</td>\n",
              "      <td>200.0</td>\n",
              "    </tr>\n",
              "    <tr>\n",
              "      <th>1</th>\n",
              "      <td>FB</td>\n",
              "      <td>Charlie</td>\n",
              "      <td>120.0</td>\n",
              "    </tr>\n",
              "    <tr>\n",
              "      <th>2</th>\n",
              "      <td>GOOG</td>\n",
              "      <td>Amy</td>\n",
              "      <td>340.0</td>\n",
              "    </tr>\n",
              "    <tr>\n",
              "      <th>3</th>\n",
              "      <td>GOOG</td>\n",
              "      <td>Vanessa</td>\n",
              "      <td>124.0</td>\n",
              "    </tr>\n",
              "    <tr>\n",
              "      <th>4</th>\n",
              "      <td>MSFT</td>\n",
              "      <td>Carl</td>\n",
              "      <td>243.0</td>\n",
              "    </tr>\n",
              "    <tr>\n",
              "      <th>5</th>\n",
              "      <td>MSFT</td>\n",
              "      <td>Sarah</td>\n",
              "      <td>350.0</td>\n",
              "    </tr>\n",
              "    <tr>\n",
              "      <th>6</th>\n",
              "      <td>AAPL</td>\n",
              "      <td>Tony</td>\n",
              "      <td>NaN</td>\n",
              "    </tr>\n",
              "    <tr>\n",
              "      <th>7</th>\n",
              "      <td>AAPL</td>\n",
              "      <td>Jake</td>\n",
              "      <td>400.0</td>\n",
              "    </tr>\n",
              "  </tbody>\n",
              "</table>\n",
              "</div>\n",
              "    <div class=\"colab-df-buttons\">\n",
              "\n",
              "  <div class=\"colab-df-container\">\n",
              "    <button class=\"colab-df-convert\" onclick=\"convertToInteractive('df-2096325f-f6dd-4569-ad47-bf6a34fbc59e')\"\n",
              "            title=\"Convert this dataframe to an interactive table.\"\n",
              "            style=\"display:none;\">\n",
              "\n",
              "  <svg xmlns=\"http://www.w3.org/2000/svg\" height=\"24px\" viewBox=\"0 -960 960 960\">\n",
              "    <path d=\"M120-120v-720h720v720H120Zm60-500h600v-160H180v160Zm220 220h160v-160H400v160Zm0 220h160v-160H400v160ZM180-400h160v-160H180v160Zm440 0h160v-160H620v160ZM180-180h160v-160H180v160Zm440 0h160v-160H620v160Z\"/>\n",
              "  </svg>\n",
              "    </button>\n",
              "\n",
              "  <style>\n",
              "    .colab-df-container {\n",
              "      display:flex;\n",
              "      gap: 12px;\n",
              "    }\n",
              "\n",
              "    .colab-df-convert {\n",
              "      background-color: #E8F0FE;\n",
              "      border: none;\n",
              "      border-radius: 50%;\n",
              "      cursor: pointer;\n",
              "      display: none;\n",
              "      fill: #1967D2;\n",
              "      height: 32px;\n",
              "      padding: 0 0 0 0;\n",
              "      width: 32px;\n",
              "    }\n",
              "\n",
              "    .colab-df-convert:hover {\n",
              "      background-color: #E2EBFA;\n",
              "      box-shadow: 0px 1px 2px rgba(60, 64, 67, 0.3), 0px 1px 3px 1px rgba(60, 64, 67, 0.15);\n",
              "      fill: #174EA6;\n",
              "    }\n",
              "\n",
              "    .colab-df-buttons div {\n",
              "      margin-bottom: 4px;\n",
              "    }\n",
              "\n",
              "    [theme=dark] .colab-df-convert {\n",
              "      background-color: #3B4455;\n",
              "      fill: #D2E3FC;\n",
              "    }\n",
              "\n",
              "    [theme=dark] .colab-df-convert:hover {\n",
              "      background-color: #434B5C;\n",
              "      box-shadow: 0px 1px 3px 1px rgba(0, 0, 0, 0.15);\n",
              "      filter: drop-shadow(0px 1px 2px rgba(0, 0, 0, 0.3));\n",
              "      fill: #FFFFFF;\n",
              "    }\n",
              "  </style>\n",
              "\n",
              "    <script>\n",
              "      const buttonEl =\n",
              "        document.querySelector('#df-2096325f-f6dd-4569-ad47-bf6a34fbc59e button.colab-df-convert');\n",
              "      buttonEl.style.display =\n",
              "        google.colab.kernel.accessAllowed ? 'block' : 'none';\n",
              "\n",
              "      async function convertToInteractive(key) {\n",
              "        const element = document.querySelector('#df-2096325f-f6dd-4569-ad47-bf6a34fbc59e');\n",
              "        const dataTable =\n",
              "          await google.colab.kernel.invokeFunction('convertToInteractive',\n",
              "                                                    [key], {});\n",
              "        if (!dataTable) return;\n",
              "\n",
              "        const docLinkHtml = 'Like what you see? Visit the ' +\n",
              "          '<a target=\"_blank\" href=https://colab.research.google.com/notebooks/data_table.ipynb>data table notebook</a>'\n",
              "          + ' to learn more about interactive tables.';\n",
              "        element.innerHTML = '';\n",
              "        dataTable['output_type'] = 'display_data';\n",
              "        await google.colab.output.renderOutput(dataTable, element);\n",
              "        const docLink = document.createElement('div');\n",
              "        docLink.innerHTML = docLinkHtml;\n",
              "        element.appendChild(docLink);\n",
              "      }\n",
              "    </script>\n",
              "  </div>\n",
              "\n",
              "\n",
              "    <div id=\"df-89c8d296-4b5c-4e5e-b8b5-b89ffc200fea\">\n",
              "      <button class=\"colab-df-quickchart\" onclick=\"quickchart('df-89c8d296-4b5c-4e5e-b8b5-b89ffc200fea')\"\n",
              "                title=\"Suggest charts\"\n",
              "                style=\"display:none;\">\n",
              "\n",
              "<svg xmlns=\"http://www.w3.org/2000/svg\" height=\"24px\"viewBox=\"0 0 24 24\"\n",
              "     width=\"24px\">\n",
              "    <g>\n",
              "        <path d=\"M19 3H5c-1.1 0-2 .9-2 2v14c0 1.1.9 2 2 2h14c1.1 0 2-.9 2-2V5c0-1.1-.9-2-2-2zM9 17H7v-7h2v7zm4 0h-2V7h2v10zm4 0h-2v-4h2v4z\"/>\n",
              "    </g>\n",
              "</svg>\n",
              "      </button>\n",
              "\n",
              "<style>\n",
              "  .colab-df-quickchart {\n",
              "      --bg-color: #E8F0FE;\n",
              "      --fill-color: #1967D2;\n",
              "      --hover-bg-color: #E2EBFA;\n",
              "      --hover-fill-color: #174EA6;\n",
              "      --disabled-fill-color: #AAA;\n",
              "      --disabled-bg-color: #DDD;\n",
              "  }\n",
              "\n",
              "  [theme=dark] .colab-df-quickchart {\n",
              "      --bg-color: #3B4455;\n",
              "      --fill-color: #D2E3FC;\n",
              "      --hover-bg-color: #434B5C;\n",
              "      --hover-fill-color: #FFFFFF;\n",
              "      --disabled-bg-color: #3B4455;\n",
              "      --disabled-fill-color: #666;\n",
              "  }\n",
              "\n",
              "  .colab-df-quickchart {\n",
              "    background-color: var(--bg-color);\n",
              "    border: none;\n",
              "    border-radius: 50%;\n",
              "    cursor: pointer;\n",
              "    display: none;\n",
              "    fill: var(--fill-color);\n",
              "    height: 32px;\n",
              "    padding: 0;\n",
              "    width: 32px;\n",
              "  }\n",
              "\n",
              "  .colab-df-quickchart:hover {\n",
              "    background-color: var(--hover-bg-color);\n",
              "    box-shadow: 0 1px 2px rgba(60, 64, 67, 0.3), 0 1px 3px 1px rgba(60, 64, 67, 0.15);\n",
              "    fill: var(--button-hover-fill-color);\n",
              "  }\n",
              "\n",
              "  .colab-df-quickchart-complete:disabled,\n",
              "  .colab-df-quickchart-complete:disabled:hover {\n",
              "    background-color: var(--disabled-bg-color);\n",
              "    fill: var(--disabled-fill-color);\n",
              "    box-shadow: none;\n",
              "  }\n",
              "\n",
              "  .colab-df-spinner {\n",
              "    border: 2px solid var(--fill-color);\n",
              "    border-color: transparent;\n",
              "    border-bottom-color: var(--fill-color);\n",
              "    animation:\n",
              "      spin 1s steps(1) infinite;\n",
              "  }\n",
              "\n",
              "  @keyframes spin {\n",
              "    0% {\n",
              "      border-color: transparent;\n",
              "      border-bottom-color: var(--fill-color);\n",
              "      border-left-color: var(--fill-color);\n",
              "    }\n",
              "    20% {\n",
              "      border-color: transparent;\n",
              "      border-left-color: var(--fill-color);\n",
              "      border-top-color: var(--fill-color);\n",
              "    }\n",
              "    30% {\n",
              "      border-color: transparent;\n",
              "      border-left-color: var(--fill-color);\n",
              "      border-top-color: var(--fill-color);\n",
              "      border-right-color: var(--fill-color);\n",
              "    }\n",
              "    40% {\n",
              "      border-color: transparent;\n",
              "      border-right-color: var(--fill-color);\n",
              "      border-top-color: var(--fill-color);\n",
              "    }\n",
              "    60% {\n",
              "      border-color: transparent;\n",
              "      border-right-color: var(--fill-color);\n",
              "    }\n",
              "    80% {\n",
              "      border-color: transparent;\n",
              "      border-right-color: var(--fill-color);\n",
              "      border-bottom-color: var(--fill-color);\n",
              "    }\n",
              "    90% {\n",
              "      border-color: transparent;\n",
              "      border-bottom-color: var(--fill-color);\n",
              "    }\n",
              "  }\n",
              "</style>\n",
              "\n",
              "      <script>\n",
              "        async function quickchart(key) {\n",
              "          const quickchartButtonEl =\n",
              "            document.querySelector('#' + key + ' button');\n",
              "          quickchartButtonEl.disabled = true;  // To prevent multiple clicks.\n",
              "          quickchartButtonEl.classList.add('colab-df-spinner');\n",
              "          try {\n",
              "            const charts = await google.colab.kernel.invokeFunction(\n",
              "                'suggestCharts', [key], {});\n",
              "          } catch (error) {\n",
              "            console.error('Error during call to suggestCharts:', error);\n",
              "          }\n",
              "          quickchartButtonEl.classList.remove('colab-df-spinner');\n",
              "          quickchartButtonEl.classList.add('colab-df-quickchart-complete');\n",
              "        }\n",
              "        (() => {\n",
              "          let quickchartButtonEl =\n",
              "            document.querySelector('#df-89c8d296-4b5c-4e5e-b8b5-b89ffc200fea button');\n",
              "          quickchartButtonEl.style.display =\n",
              "            google.colab.kernel.accessAllowed ? 'block' : 'none';\n",
              "        })();\n",
              "      </script>\n",
              "    </div>\n",
              "\n",
              "  <div id=\"id_401fd790-dc51-448b-88f4-a1c43356698e\">\n",
              "    <style>\n",
              "      .colab-df-generate {\n",
              "        background-color: #E8F0FE;\n",
              "        border: none;\n",
              "        border-radius: 50%;\n",
              "        cursor: pointer;\n",
              "        display: none;\n",
              "        fill: #1967D2;\n",
              "        height: 32px;\n",
              "        padding: 0 0 0 0;\n",
              "        width: 32px;\n",
              "      }\n",
              "\n",
              "      .colab-df-generate:hover {\n",
              "        background-color: #E2EBFA;\n",
              "        box-shadow: 0px 1px 2px rgba(60, 64, 67, 0.3), 0px 1px 3px 1px rgba(60, 64, 67, 0.15);\n",
              "        fill: #174EA6;\n",
              "      }\n",
              "\n",
              "      [theme=dark] .colab-df-generate {\n",
              "        background-color: #3B4455;\n",
              "        fill: #D2E3FC;\n",
              "      }\n",
              "\n",
              "      [theme=dark] .colab-df-generate:hover {\n",
              "        background-color: #434B5C;\n",
              "        box-shadow: 0px 1px 3px 1px rgba(0, 0, 0, 0.15);\n",
              "        filter: drop-shadow(0px 1px 2px rgba(0, 0, 0, 0.3));\n",
              "        fill: #FFFFFF;\n",
              "      }\n",
              "    </style>\n",
              "    <button class=\"colab-df-generate\" onclick=\"generateWithVariable('df')\"\n",
              "            title=\"Generate code using this dataframe.\"\n",
              "            style=\"display:none;\">\n",
              "\n",
              "  <svg xmlns=\"http://www.w3.org/2000/svg\" height=\"24px\"viewBox=\"0 0 24 24\"\n",
              "       width=\"24px\">\n",
              "    <path d=\"M7,19H8.4L18.45,9,17,7.55,7,17.6ZM5,21V16.75L18.45,3.32a2,2,0,0,1,2.83,0l1.4,1.43a1.91,1.91,0,0,1,.58,1.4,1.91,1.91,0,0,1-.58,1.4L9.25,21ZM18.45,9,17,7.55Zm-12,3A5.31,5.31,0,0,0,4.9,8.1,5.31,5.31,0,0,0,1,6.5,5.31,5.31,0,0,0,4.9,4.9,5.31,5.31,0,0,0,6.5,1,5.31,5.31,0,0,0,8.1,4.9,5.31,5.31,0,0,0,12,6.5,5.46,5.46,0,0,0,6.5,12Z\"/>\n",
              "  </svg>\n",
              "    </button>\n",
              "    <script>\n",
              "      (() => {\n",
              "      const buttonEl =\n",
              "        document.querySelector('#id_401fd790-dc51-448b-88f4-a1c43356698e button.colab-df-generate');\n",
              "      buttonEl.style.display =\n",
              "        google.colab.kernel.accessAllowed ? 'block' : 'none';\n",
              "\n",
              "      buttonEl.onclick = () => {\n",
              "        google.colab.notebook.generateWithVariable('df');\n",
              "      }\n",
              "      })();\n",
              "    </script>\n",
              "  </div>\n",
              "\n",
              "    </div>\n",
              "  </div>\n"
            ],
            "application/vnd.google.colaboratory.intrinsic+json": {
              "type": "dataframe",
              "variable_name": "df",
              "summary": "{\n  \"name\": \"df\",\n  \"rows\": 8,\n  \"fields\": [\n    {\n      \"column\": \"Company\",\n      \"properties\": {\n        \"dtype\": \"string\",\n        \"num_unique_values\": 4,\n        \"samples\": [\n          \"GOOG\",\n          \"AAPL\",\n          \"FB\"\n        ],\n        \"semantic_type\": \"\",\n        \"description\": \"\"\n      }\n    },\n    {\n      \"column\": \"Person\",\n      \"properties\": {\n        \"dtype\": \"string\",\n        \"num_unique_values\": 8,\n        \"samples\": [\n          \"Charlie\",\n          \"Sarah\",\n          \"Sam\"\n        ],\n        \"semantic_type\": \"\",\n        \"description\": \"\"\n      }\n    },\n    {\n      \"column\": \"Sales\",\n      \"properties\": {\n        \"dtype\": \"number\",\n        \"std\": 112.41356467886571,\n        \"min\": 120.0,\n        \"max\": 400.0,\n        \"num_unique_values\": 7,\n        \"samples\": [\n          200.0,\n          120.0,\n          350.0\n        ],\n        \"semantic_type\": \"\",\n        \"description\": \"\"\n      }\n    }\n  ]\n}"
            }
          },
          "metadata": {},
          "execution_count": 1
        }
      ]
    },
    {
      "cell_type": "code",
      "source": [
        "# Perform row level manipulations such drop rpws and columns\n",
        "\n",
        "print(\"\\nDropping any rows with a NaN value\\n\", '-'*35)    # NOTE: Try it with iris or titanic dataset\n",
        "print(df.dropna())\n",
        "\n",
        "print(\"\\nDropping any column with a NaN value\\n\", '-'*35)\n",
        "print(df.dropna(axis=1))              # axis=0 is rows\n",
        "\n",
        "print(\"\\nDropping a row with minimum 2 NaN using 'thresh'\\n\")\n",
        "print(df.dropna(thresh=2))            # If a row has fewer than 2 non-NaN (valid) values, it’s dropped.\n"
      ],
      "metadata": {
        "colab": {
          "base_uri": "https://localhost:8080/",
          "height": 0
        },
        "id": "SdRjPz_ouvpj",
        "outputId": "463e314c-0e71-47ae-b5e4-8e25b1d18805"
      },
      "execution_count": 3,
      "outputs": [
        {
          "output_type": "stream",
          "name": "stdout",
          "text": [
            "\n",
            "Dropping any rows with a NaN value\n",
            " -----------------------------------\n",
            "  Company   Person  Sales\n",
            "0      FB      Sam  200.0\n",
            "1      FB  Charlie  120.0\n",
            "2    GOOG      Amy  340.0\n",
            "3    GOOG  Vanessa  124.0\n",
            "4    MSFT     Carl  243.0\n",
            "5    MSFT    Sarah  350.0\n",
            "7    AAPL     Jake  400.0\n",
            "\n",
            "Dropping any column with a NaN value\n",
            " -----------------------------------\n",
            "  Company   Person\n",
            "0      FB      Sam\n",
            "1      FB  Charlie\n",
            "2    GOOG      Amy\n",
            "3    GOOG  Vanessa\n",
            "4    MSFT     Carl\n",
            "5    MSFT    Sarah\n",
            "6    AAPL     Tony\n",
            "7    AAPL     Jake\n",
            "\n",
            "Dropping a row with minimum 2 NaN using 'thresh'\n",
            "\n",
            "  Company   Person  Sales\n",
            "0      FB      Sam  200.0\n",
            "1      FB  Charlie  120.0\n",
            "2    GOOG      Amy  340.0\n",
            "3    GOOG  Vanessa  124.0\n",
            "4    MSFT     Carl  243.0\n",
            "5    MSFT    Sarah  350.0\n",
            "6    AAPL     Tony    NaN\n",
            "7    AAPL     Jake  400.0\n"
          ]
        }
      ]
    },
    {
      "cell_type": "code",
      "source": [
        "# Fill in Null values\n",
        "\n",
        "print(\"\\nFilling values with default (0)\\n\")\n",
        "print(df.fillna(0))\n",
        "\n",
        "print(\"\\nFilling values with mean of Sales\\n\")\n",
        "print(df['Sales'].fillna(df['Sales'].mean()))\n"
      ],
      "metadata": {
        "colab": {
          "base_uri": "https://localhost:8080/",
          "height": 0
        },
        "id": "AMlzii6qvt_B",
        "outputId": "14c0c19b-f077-454c-e800-3c62b40cf7cf"
      },
      "execution_count": 4,
      "outputs": [
        {
          "output_type": "stream",
          "name": "stdout",
          "text": [
            "\n",
            "Filling values with default (0)\n",
            "\n",
            "  Company   Person  Sales\n",
            "0      FB      Sam  200.0\n",
            "1      FB  Charlie  120.0\n",
            "2    GOOG      Amy  340.0\n",
            "3    GOOG  Vanessa  124.0\n",
            "4    MSFT     Carl  243.0\n",
            "5    MSFT    Sarah  350.0\n",
            "6    AAPL     Tony    0.0\n",
            "7    AAPL     Jake  400.0\n",
            "\n",
            "Filling values with mean of Sales\n",
            "\n",
            "0    200.000000\n",
            "1    120.000000\n",
            "2    340.000000\n",
            "3    124.000000\n",
            "4    243.000000\n",
            "5    350.000000\n",
            "6    253.857143\n",
            "7    400.000000\n",
            "Name: Sales, dtype: float64\n"
          ]
        }
      ]
    },
    {
      "cell_type": "code",
      "source": [
        "# GroupBy and use Describe fpr dataframe\n",
        "\n",
        "byComp = df.groupby('Company')\n",
        "print(\"\\nGrouping by 'Company' and summing sales\\n\", '-'*55, sep='')\n",
        "print(byComp['Sales'].sum())\n",
        "\n",
        "print(\"\\nStats for 'FB'\\n\")\n",
        "pd.DataFrame(byComp.describe().loc['FB']).T\n"
      ],
      "metadata": {
        "colab": {
          "base_uri": "https://localhost:8080/",
          "height": 320
        },
        "id": "Y5JX8TbQwLMn",
        "outputId": "7594cc61-0075-4241-aab6-5e98b230181c"
      },
      "execution_count": 5,
      "outputs": [
        {
          "output_type": "stream",
          "name": "stdout",
          "text": [
            "\n",
            "Grouping by 'Company' and summing sales\n",
            "-------------------------------------------------------\n",
            "Company\n",
            "AAPL    400.0\n",
            "FB      320.0\n",
            "GOOG    464.0\n",
            "MSFT    593.0\n",
            "Name: Sales, dtype: float64\n",
            "\n",
            "Stats for 'FB'\n",
            "\n"
          ]
        },
        {
          "output_type": "execute_result",
          "data": {
            "text/plain": [
              "   Sales                                                     \n",
              "   count   mean        std    min    25%    50%    75%    max\n",
              "FB   2.0  160.0  56.568542  120.0  140.0  160.0  180.0  200.0"
            ],
            "text/html": [
              "\n",
              "  <div id=\"df-dbf97fd9-6ae8-4855-850f-71a275a481e1\" class=\"colab-df-container\">\n",
              "    <div>\n",
              "<style scoped>\n",
              "    .dataframe tbody tr th:only-of-type {\n",
              "        vertical-align: middle;\n",
              "    }\n",
              "\n",
              "    .dataframe tbody tr th {\n",
              "        vertical-align: top;\n",
              "    }\n",
              "\n",
              "    .dataframe thead tr th {\n",
              "        text-align: left;\n",
              "    }\n",
              "</style>\n",
              "<table border=\"1\" class=\"dataframe\">\n",
              "  <thead>\n",
              "    <tr>\n",
              "      <th></th>\n",
              "      <th colspan=\"8\" halign=\"left\">Sales</th>\n",
              "    </tr>\n",
              "    <tr>\n",
              "      <th></th>\n",
              "      <th>count</th>\n",
              "      <th>mean</th>\n",
              "      <th>std</th>\n",
              "      <th>min</th>\n",
              "      <th>25%</th>\n",
              "      <th>50%</th>\n",
              "      <th>75%</th>\n",
              "      <th>max</th>\n",
              "    </tr>\n",
              "  </thead>\n",
              "  <tbody>\n",
              "    <tr>\n",
              "      <th>FB</th>\n",
              "      <td>2.0</td>\n",
              "      <td>160.0</td>\n",
              "      <td>56.568542</td>\n",
              "      <td>120.0</td>\n",
              "      <td>140.0</td>\n",
              "      <td>160.0</td>\n",
              "      <td>180.0</td>\n",
              "      <td>200.0</td>\n",
              "    </tr>\n",
              "  </tbody>\n",
              "</table>\n",
              "</div>\n",
              "    <div class=\"colab-df-buttons\">\n",
              "\n",
              "  <div class=\"colab-df-container\">\n",
              "    <button class=\"colab-df-convert\" onclick=\"convertToInteractive('df-dbf97fd9-6ae8-4855-850f-71a275a481e1')\"\n",
              "            title=\"Convert this dataframe to an interactive table.\"\n",
              "            style=\"display:none;\">\n",
              "\n",
              "  <svg xmlns=\"http://www.w3.org/2000/svg\" height=\"24px\" viewBox=\"0 -960 960 960\">\n",
              "    <path d=\"M120-120v-720h720v720H120Zm60-500h600v-160H180v160Zm220 220h160v-160H400v160Zm0 220h160v-160H400v160ZM180-400h160v-160H180v160Zm440 0h160v-160H620v160ZM180-180h160v-160H180v160Zm440 0h160v-160H620v160Z\"/>\n",
              "  </svg>\n",
              "    </button>\n",
              "\n",
              "  <style>\n",
              "    .colab-df-container {\n",
              "      display:flex;\n",
              "      gap: 12px;\n",
              "    }\n",
              "\n",
              "    .colab-df-convert {\n",
              "      background-color: #E8F0FE;\n",
              "      border: none;\n",
              "      border-radius: 50%;\n",
              "      cursor: pointer;\n",
              "      display: none;\n",
              "      fill: #1967D2;\n",
              "      height: 32px;\n",
              "      padding: 0 0 0 0;\n",
              "      width: 32px;\n",
              "    }\n",
              "\n",
              "    .colab-df-convert:hover {\n",
              "      background-color: #E2EBFA;\n",
              "      box-shadow: 0px 1px 2px rgba(60, 64, 67, 0.3), 0px 1px 3px 1px rgba(60, 64, 67, 0.15);\n",
              "      fill: #174EA6;\n",
              "    }\n",
              "\n",
              "    .colab-df-buttons div {\n",
              "      margin-bottom: 4px;\n",
              "    }\n",
              "\n",
              "    [theme=dark] .colab-df-convert {\n",
              "      background-color: #3B4455;\n",
              "      fill: #D2E3FC;\n",
              "    }\n",
              "\n",
              "    [theme=dark] .colab-df-convert:hover {\n",
              "      background-color: #434B5C;\n",
              "      box-shadow: 0px 1px 3px 1px rgba(0, 0, 0, 0.15);\n",
              "      filter: drop-shadow(0px 1px 2px rgba(0, 0, 0, 0.3));\n",
              "      fill: #FFFFFF;\n",
              "    }\n",
              "  </style>\n",
              "\n",
              "    <script>\n",
              "      const buttonEl =\n",
              "        document.querySelector('#df-dbf97fd9-6ae8-4855-850f-71a275a481e1 button.colab-df-convert');\n",
              "      buttonEl.style.display =\n",
              "        google.colab.kernel.accessAllowed ? 'block' : 'none';\n",
              "\n",
              "      async function convertToInteractive(key) {\n",
              "        const element = document.querySelector('#df-dbf97fd9-6ae8-4855-850f-71a275a481e1');\n",
              "        const dataTable =\n",
              "          await google.colab.kernel.invokeFunction('convertToInteractive',\n",
              "                                                    [key], {});\n",
              "        if (!dataTable) return;\n",
              "\n",
              "        const docLinkHtml = 'Like what you see? Visit the ' +\n",
              "          '<a target=\"_blank\" href=https://colab.research.google.com/notebooks/data_table.ipynb>data table notebook</a>'\n",
              "          + ' to learn more about interactive tables.';\n",
              "        element.innerHTML = '';\n",
              "        dataTable['output_type'] = 'display_data';\n",
              "        await google.colab.output.renderOutput(dataTable, element);\n",
              "        const docLink = document.createElement('div');\n",
              "        docLink.innerHTML = docLinkHtml;\n",
              "        element.appendChild(docLink);\n",
              "      }\n",
              "    </script>\n",
              "  </div>\n",
              "\n",
              "\n",
              "    </div>\n",
              "  </div>\n"
            ],
            "application/vnd.google.colaboratory.intrinsic+json": {
              "type": "dataframe",
              "summary": "{\n  \"name\": \"pd\",\n  \"rows\": 1,\n  \"fields\": [\n    {\n      \"column\": [\n        \"Sales\",\n        \"count\"\n      ],\n      \"properties\": {\n        \"dtype\": \"number\",\n        \"std\": null,\n        \"min\": 2.0,\n        \"max\": 2.0,\n        \"num_unique_values\": 1,\n        \"samples\": [\n          2.0\n        ],\n        \"semantic_type\": \"\",\n        \"description\": \"\"\n      }\n    },\n    {\n      \"column\": [\n        \"Sales\",\n        \"mean\"\n      ],\n      \"properties\": {\n        \"dtype\": \"number\",\n        \"std\": null,\n        \"min\": 160.0,\n        \"max\": 160.0,\n        \"num_unique_values\": 1,\n        \"samples\": [\n          160.0\n        ],\n        \"semantic_type\": \"\",\n        \"description\": \"\"\n      }\n    },\n    {\n      \"column\": [\n        \"Sales\",\n        \"std\"\n      ],\n      \"properties\": {\n        \"dtype\": \"number\",\n        \"std\": null,\n        \"min\": 56.568542494923804,\n        \"max\": 56.568542494923804,\n        \"num_unique_values\": 1,\n        \"samples\": [\n          56.568542494923804\n        ],\n        \"semantic_type\": \"\",\n        \"description\": \"\"\n      }\n    },\n    {\n      \"column\": [\n        \"Sales\",\n        \"min\"\n      ],\n      \"properties\": {\n        \"dtype\": \"number\",\n        \"std\": null,\n        \"min\": 120.0,\n        \"max\": 120.0,\n        \"num_unique_values\": 1,\n        \"samples\": [\n          120.0\n        ],\n        \"semantic_type\": \"\",\n        \"description\": \"\"\n      }\n    },\n    {\n      \"column\": [\n        \"Sales\",\n        \"25%\"\n      ],\n      \"properties\": {\n        \"dtype\": \"number\",\n        \"std\": null,\n        \"min\": 140.0,\n        \"max\": 140.0,\n        \"num_unique_values\": 1,\n        \"samples\": [\n          140.0\n        ],\n        \"semantic_type\": \"\",\n        \"description\": \"\"\n      }\n    },\n    {\n      \"column\": [\n        \"Sales\",\n        \"50%\"\n      ],\n      \"properties\": {\n        \"dtype\": \"number\",\n        \"std\": null,\n        \"min\": 160.0,\n        \"max\": 160.0,\n        \"num_unique_values\": 1,\n        \"samples\": [\n          160.0\n        ],\n        \"semantic_type\": \"\",\n        \"description\": \"\"\n      }\n    },\n    {\n      \"column\": [\n        \"Sales\",\n        \"75%\"\n      ],\n      \"properties\": {\n        \"dtype\": \"number\",\n        \"std\": null,\n        \"min\": 180.0,\n        \"max\": 180.0,\n        \"num_unique_values\": 1,\n        \"samples\": [\n          180.0\n        ],\n        \"semantic_type\": \"\",\n        \"description\": \"\"\n      }\n    },\n    {\n      \"column\": [\n        \"Sales\",\n        \"max\"\n      ],\n      \"properties\": {\n        \"dtype\": \"number\",\n        \"std\": null,\n        \"min\": 200.0,\n        \"max\": 200.0,\n        \"num_unique_values\": 1,\n        \"samples\": [\n          200.0\n        ],\n        \"semantic_type\": \"\",\n        \"description\": \"\"\n      }\n    }\n  ]\n}"
            }
          },
          "metadata": {},
          "execution_count": 5
        }
      ]
    },
    {
      "cell_type": "code",
      "source": [
        "# Concatenation and Merging dataframes\n",
        "\n",
        "df1 = pd.DataFrame({'A': ['A0','A1','A2','A3'],\n",
        "                    'B': ['B0','B1','B2','B3'],\n",
        "                    'key': ['K0','K1','K2','K3']})\n",
        "df2 = pd.DataFrame({'A': ['A4','A5','A6','A7'],\n",
        "                    'B': ['B4','B5','B6','B7'],\n",
        "                    'key': ['K0','K1','K2','K3']})\n",
        "df3 = pd.DataFrame({'A': ['A8','A9','A10','A11'],\n",
        "                    'B': ['B8','B9','B10','B11'],\n",
        "                    'key': ['K0','K1','K2','K3']})\n",
        "print(\"\\nConcatenation\\n\")\n",
        "df_cat = pd.concat([df1, df2, df3])                   # row wise - by default the axis=0\n",
        "print(df_cat)\n",
        "\n",
        "print(\"\\nMerge by key\\n\")\n",
        "merge1 = pd.merge(df1, df2, how='inner', on='key')     # only common values\n",
        "print(merge1)\n",
        "\n",
        "merged = pd.merge(merge1, df3, on='key', how='outer')  # Merge the result with the third, outer keeps everything\n",
        "print(merged)\n"
      ],
      "metadata": {
        "colab": {
          "base_uri": "https://localhost:8080/",
          "height": 0
        },
        "id": "gFjr-BtOwbcb",
        "outputId": "e2dba6c8-6a34-4349-bbcb-acc297255751"
      },
      "execution_count": 6,
      "outputs": [
        {
          "output_type": "stream",
          "name": "stdout",
          "text": [
            "\n",
            "Concatenation\n",
            "\n",
            "     A    B key\n",
            "0   A0   B0  K0\n",
            "1   A1   B1  K1\n",
            "2   A2   B2  K2\n",
            "3   A3   B3  K3\n",
            "0   A4   B4  K0\n",
            "1   A5   B5  K1\n",
            "2   A6   B6  K2\n",
            "3   A7   B7  K3\n",
            "0   A8   B8  K0\n",
            "1   A9   B9  K1\n",
            "2  A10  B10  K2\n",
            "3  A11  B11  K3\n",
            "\n",
            "Merge by key\n",
            "\n",
            "  A_x B_x key A_y B_y\n",
            "0  A0  B0  K0  A4  B4\n",
            "1  A1  B1  K1  A5  B5\n",
            "2  A2  B2  K2  A6  B6\n",
            "3  A3  B3  K3  A7  B7\n",
            "  A_x B_x key A_y B_y    A    B\n",
            "0  A0  B0  K0  A4  B4   A8   B8\n",
            "1  A1  B1  K1  A5  B5   A9   B9\n",
            "2  A2  B2  K2  A6  B6  A10  B10\n",
            "3  A3  B3  K3  A7  B7  A11  B11\n"
          ]
        }
      ]
    },
    {
      "cell_type": "markdown",
      "source": [
        "Tuples (*immutable - unchangeable after creation*)"
      ],
      "metadata": {
        "id": "hMZogM5L2DPW"
      }
    },
    {
      "cell_type": "code",
      "source": [
        "t = ('a', 1, 3.5)\n",
        "print(t[0], len(t))\n",
        "print(t.count('a'), t.index(1))\n",
        "\n",
        "# t[0]         → Accesses the first element of the tuple, which is 'a'.\n",
        "# len(t)       → Returns the number of elements in the tuple, which is 3.\n",
        "# t.count('a') → Counts how many times 'a' appears in the tuple → 1.\n",
        "# t.index(1)   → Finds the index of the first occurrence of 1 → 1."
      ],
      "metadata": {
        "colab": {
          "base_uri": "https://localhost:8080/",
          "height": 0
        },
        "id": "bImNg5220Rrz",
        "outputId": "6bb60a8b-3845-4091-c949-810363779323"
      },
      "execution_count": 7,
      "outputs": [
        {
          "output_type": "stream",
          "name": "stdout",
          "text": [
            "a 3\n",
            "1 1\n"
          ]
        }
      ]
    },
    {
      "cell_type": "markdown",
      "source": [
        "Set"
      ],
      "metadata": {
        "id": "8k4JP_EM2Kyp"
      }
    },
    {
      "cell_type": "code",
      "source": [
        "x = set()\n",
        "x.add(1)\n",
        "x.add(2)\n",
        "x.add(1)   # duplicates ignored\n",
        "x.add(4)\n",
        "x.add(3)\n",
        "print(x)\n"
      ],
      "metadata": {
        "colab": {
          "base_uri": "https://localhost:8080/",
          "height": 0
        },
        "id": "IEMp_vLA0YOb",
        "outputId": "b3148281-5228-4449-be88-705385184d39"
      },
      "execution_count": 15,
      "outputs": [
        {
          "output_type": "stream",
          "name": "stdout",
          "text": [
            "{1, 2, 3, 4}\n"
          ]
        }
      ]
    },
    {
      "cell_type": "markdown",
      "source": [
        "Dictionary"
      ],
      "metadata": {
        "id": "gfbKs2JR2Q6f"
      }
    },
    {
      "cell_type": "code",
      "source": [
        "my_dict = {'key1':123, 'key2':[12,23,33], 'key3':['item0','item1','item2']}\n",
        "print(my_dict['key2'][1])\n",
        "my_dict['key1'] -= 23\n",
        "print(my_dict)\n",
        "\n",
        "print(my_dict.keys(), my_dict.values(), my_dict.items())\n"
      ],
      "metadata": {
        "colab": {
          "base_uri": "https://localhost:8080/",
          "height": 0
        },
        "id": "yI3RFQa00bb1",
        "outputId": "47541958-ad5b-4a9c-aa59-72e741b036f6"
      },
      "execution_count": 17,
      "outputs": [
        {
          "output_type": "stream",
          "name": "stdout",
          "text": [
            "23\n",
            "{'key1': 100, 'key2': [12, 23, 33], 'key3': ['item0', 'item1', 'item2']}\n",
            "dict_keys(['key1', 'key2', 'key3']) dict_values([100, [12, 23, 33], ['item0', 'item1', 'item2']]) dict_items([('key1', 100), ('key2', [12, 23, 33]), ('key3', ['item0', 'item1', 'item2'])])\n"
          ]
        }
      ]
    },
    {
      "cell_type": "markdown",
      "source": [
        "Function and Lambda"
      ],
      "metadata": {
        "id": "KqtZBNFx2Ukt"
      }
    },
    {
      "cell_type": "code",
      "source": [
        "# Regular function to calculate square of a number\n",
        "def square(num):\n",
        "    return num ** 2\n",
        "\n",
        "# Lambda function for the same operation\n",
        "square_lambda = lambda num: num ** 2\n",
        "\n",
        "# Demonstration\n",
        "print(\"Regular function:\", square(4), square(10))        # Output: 16 100\n",
        "print(\"Lambda function:\", square_lambda(4), square_lambda(10))  # Output: 16 100\n"
      ],
      "metadata": {
        "colab": {
          "base_uri": "https://localhost:8080/",
          "height": 0
        },
        "id": "7Cj7Ceiy0enB",
        "outputId": "796ba4fc-8746-4b58-841c-0f2ec55d97a2"
      },
      "execution_count": 10,
      "outputs": [
        {
          "output_type": "stream",
          "name": "stdout",
          "text": [
            "Regular function: 16 100\n",
            "Lambda function: 16 100\n"
          ]
        }
      ]
    },
    {
      "cell_type": "markdown",
      "source": [
        "Pre-defined advance or high level function: Map, Reduce, and Filter"
      ],
      "metadata": {
        "id": "kzYWgcFC2dJg"
      }
    },
    {
      "cell_type": "code",
      "source": [
        "from functools import reduce\n",
        "\n",
        "def add_num(a,b): return a+b\n",
        "nums = [1,2,3,4,5]\n",
        "print(\"Map:\", list(map(lambda x:x**2, nums)))   # map() applies a function to each element in an iterable (like a list).\n",
        "\n",
        "print(\"Filter:\", list(filter(lambda x:x%2==0, nums)))    # returns True for even numbers\n",
        "\n",
        "print(\"Reduce:\", reduce(add_num, nums))\n",
        "\n",
        "# reduce(add_num, nums) performs:\n",
        "#   add_num(1, 2) → 3\n",
        "#   add_num(3, 3) → 6\n",
        "#   add_num(6, 4) → 10\n",
        "#   add_num(10, 5) → 15\n"
      ],
      "metadata": {
        "colab": {
          "base_uri": "https://localhost:8080/",
          "height": 0
        },
        "id": "Y_fMHcA_005b",
        "outputId": "fd16e937-1942-4bbc-974e-6d3451f01f0f"
      },
      "execution_count": 21,
      "outputs": [
        {
          "output_type": "stream",
          "name": "stdout",
          "text": [
            "Map: [1, 4, 9, 16, 25]\n",
            "Filter: [2, 4]\n",
            "Reduce: 15\n"
          ]
        }
      ]
    },
    {
      "cell_type": "markdown",
      "source": [
        "Object Oriented Programming: Creating Classes"
      ],
      "metadata": {
        "id": "1ZapQMxP2mHl"
      }
    },
    {
      "cell_type": "code",
      "source": [
        "class Person:\n",
        "    def __init__(self, name, surname, birth_year):\n",
        "        self.name = name\n",
        "        self.surname = surname\n",
        "        self.birth_year = birth_year\n",
        "\n",
        "    def age(self, current_year):\n",
        "        return current_year - self.birth_year\n",
        "\n",
        "    def __str__(self):\n",
        "        return f\"{self.name} {self.surname}\"\n",
        "\n",
        "alec = Person(\"Alec\", \"Baldwin\", 1958)\n",
        "print(alec)\n",
        "print(\"Age:\", alec.age(2025))\n"
      ],
      "metadata": {
        "colab": {
          "base_uri": "https://localhost:8080/",
          "height": 0
        },
        "id": "NxBYLTsW1HHz",
        "outputId": "79ef2870-e85a-4251-e3d4-cf6cec3b4377"
      },
      "execution_count": 12,
      "outputs": [
        {
          "output_type": "stream",
          "name": "stdout",
          "text": [
            "Alec Baldwin\n",
            "Age: 67\n"
          ]
        }
      ]
    },
    {
      "cell_type": "markdown",
      "source": [
        "Iterator, and Generator"
      ],
      "metadata": {
        "id": "H1qf37wj2xlY"
      }
    },
    {
      "cell_type": "code",
      "source": [
        "# Iterator class for first 5 even numbers\n",
        "class EvenIterator:\n",
        "    def __init__(self):\n",
        "        self.n = 0\n",
        "        self.count = 0\n",
        "\n",
        "    def __iter__(self):\n",
        "        return self\n",
        "\n",
        "    def __next__(self):\n",
        "        if self.count >= 5:\n",
        "            raise StopIteration\n",
        "        result = self.n\n",
        "        self.n += 2\n",
        "        self.count += 1\n",
        "        return result\n",
        "\n",
        "# Generator function for first 5 even numbers\n",
        "def even_generator():\n",
        "    n = 0\n",
        "    for _ in range(5):\n",
        "        yield n\n",
        "        n += 2\n",
        "\n",
        "# Demonstration\n",
        "print(\"Iterator:\", list(EvenIterator()))     # Output: [0, 2, 4, 6, 8]\n",
        "print(\"Generator:\", list(even_generator()))  # Output: [0, 2, 4, 6, 8]\n"
      ],
      "metadata": {
        "colab": {
          "base_uri": "https://localhost:8080/",
          "height": 0
        },
        "id": "5Oe7j1EI1LKt",
        "outputId": "c41a4722-991a-4449-8791-0bd0cc2c1972"
      },
      "execution_count": 13,
      "outputs": [
        {
          "output_type": "stream",
          "name": "stdout",
          "text": [
            "Iterator: [0, 2, 4, 6, 8]\n",
            "Generator: [0, 2, 4, 6, 8]\n"
          ]
        }
      ]
    },
    {
      "cell_type": "code",
      "source": [
        "try:\n",
        "    number = int(input(\"Enter a number: \"))\n",
        "    result = 10 / number\n",
        "except ValueError:\n",
        "    print(\"That's not a valid number!\")\n",
        "except ZeroDivisionError:\n",
        "    print(\"Cannot divide by zero!\")\n",
        "else:\n",
        "    print(\"Result is:\", result)\n",
        "finally:\n",
        "    print(\"Execution complete.\")\n"
      ],
      "metadata": {
        "colab": {
          "base_uri": "https://localhost:8080/",
          "height": 0
        },
        "id": "3LUfzeLf1O8f",
        "outputId": "afd8d7df-a861-43e8-c4d7-17173a8683cf"
      },
      "execution_count": 14,
      "outputs": [
        {
          "output_type": "stream",
          "name": "stdout",
          "text": [
            "Enter a number: 2\n",
            "Result is: 5.0\n",
            "Execution complete.\n"
          ]
        }
      ]
    },
    {
      "cell_type": "markdown",
      "source": [
        "https://colab.research.google.com/drive/11lZQGYwOhRtjFggHYbety-u4emukAPMk?usp=sharing"
      ],
      "metadata": {
        "id": "O9y8mtsWFy3v"
      }
    }
  ]
}